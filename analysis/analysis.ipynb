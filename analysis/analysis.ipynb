{
 "cells": [
  {
   "cell_type": "code",
   "execution_count": 36,
   "metadata": {},
   "outputs": [],
   "source": [
    "import pandas as pd\n",
    "import matplotlib.pyplot as plt\n",
    "from scipy import stats"
   ]
  },
  {
   "cell_type": "code",
   "execution_count": 11,
   "metadata": {},
   "outputs": [
    {
     "data": {
      "text/html": [
       "<div>\n",
       "<style scoped>\n",
       "    .dataframe tbody tr th:only-of-type {\n",
       "        vertical-align: middle;\n",
       "    }\n",
       "\n",
       "    .dataframe tbody tr th {\n",
       "        vertical-align: top;\n",
       "    }\n",
       "\n",
       "    .dataframe thead th {\n",
       "        text-align: right;\n",
       "    }\n",
       "</style>\n",
       "<table border=\"1\" class=\"dataframe\">\n",
       "  <thead>\n",
       "    <tr style=\"text-align: right;\">\n",
       "      <th></th>\n",
       "      <th>database</th>\n",
       "      <th>dataset</th>\n",
       "      <th>scale</th>\n",
       "      <th>variant</th>\n",
       "      <th>errors</th>\n",
       "      <th>time</th>\n",
       "    </tr>\n",
       "  </thead>\n",
       "  <tbody>\n",
       "    <tr>\n",
       "      <th>0</th>\n",
       "      <td>neo4j</td>\n",
       "      <td>recommendations</td>\n",
       "      <td>1.0</td>\n",
       "      <td>full</td>\n",
       "      <td>none</td>\n",
       "      <td>1825</td>\n",
       "    </tr>\n",
       "    <tr>\n",
       "      <th>1</th>\n",
       "      <td>neo4j</td>\n",
       "      <td>recommendations</td>\n",
       "      <td>1.0</td>\n",
       "      <td>full</td>\n",
       "      <td>none</td>\n",
       "      <td>1327</td>\n",
       "    </tr>\n",
       "    <tr>\n",
       "      <th>2</th>\n",
       "      <td>neo4j</td>\n",
       "      <td>recommendations</td>\n",
       "      <td>1.0</td>\n",
       "      <td>full</td>\n",
       "      <td>none</td>\n",
       "      <td>1274</td>\n",
       "    </tr>\n",
       "    <tr>\n",
       "      <th>3</th>\n",
       "      <td>neo4j</td>\n",
       "      <td>recommendations</td>\n",
       "      <td>1.0</td>\n",
       "      <td>boolean</td>\n",
       "      <td>none</td>\n",
       "      <td>1713</td>\n",
       "    </tr>\n",
       "    <tr>\n",
       "      <th>4</th>\n",
       "      <td>neo4j</td>\n",
       "      <td>recommendations</td>\n",
       "      <td>1.0</td>\n",
       "      <td>boolean</td>\n",
       "      <td>none</td>\n",
       "      <td>1515</td>\n",
       "    </tr>\n",
       "    <tr>\n",
       "      <th>...</th>\n",
       "      <td>...</td>\n",
       "      <td>...</td>\n",
       "      <td>...</td>\n",
       "      <td>...</td>\n",
       "      <td>...</td>\n",
       "      <td>...</td>\n",
       "    </tr>\n",
       "    <tr>\n",
       "      <th>73</th>\n",
       "      <td>tigergraph</td>\n",
       "      <td>snb</td>\n",
       "      <td>1.0</td>\n",
       "      <td>full</td>\n",
       "      <td>none</td>\n",
       "      <td>1037</td>\n",
       "    </tr>\n",
       "    <tr>\n",
       "      <th>74</th>\n",
       "      <td>tigergraph</td>\n",
       "      <td>snb</td>\n",
       "      <td>1.0</td>\n",
       "      <td>full</td>\n",
       "      <td>none</td>\n",
       "      <td>1009</td>\n",
       "    </tr>\n",
       "    <tr>\n",
       "      <th>75</th>\n",
       "      <td>tigergraph</td>\n",
       "      <td>snb</td>\n",
       "      <td>1.0</td>\n",
       "      <td>boolean</td>\n",
       "      <td>none</td>\n",
       "      <td>1009</td>\n",
       "    </tr>\n",
       "    <tr>\n",
       "      <th>76</th>\n",
       "      <td>tigergraph</td>\n",
       "      <td>snb</td>\n",
       "      <td>1.0</td>\n",
       "      <td>boolean</td>\n",
       "      <td>none</td>\n",
       "      <td>1026</td>\n",
       "    </tr>\n",
       "    <tr>\n",
       "      <th>77</th>\n",
       "      <td>tigergraph</td>\n",
       "      <td>snb</td>\n",
       "      <td>1.0</td>\n",
       "      <td>boolean</td>\n",
       "      <td>none</td>\n",
       "      <td>1028</td>\n",
       "    </tr>\n",
       "  </tbody>\n",
       "</table>\n",
       "<p>78 rows × 6 columns</p>\n",
       "</div>"
      ],
      "text/plain": [
       "      database          dataset  scale  variant errors  time\n",
       "0        neo4j  recommendations    1.0     full   none  1825\n",
       "1        neo4j  recommendations    1.0     full   none  1327\n",
       "2        neo4j  recommendations    1.0     full   none  1274\n",
       "3        neo4j  recommendations    1.0  boolean   none  1713\n",
       "4        neo4j  recommendations    1.0  boolean   none  1515\n",
       "..         ...              ...    ...      ...    ...   ...\n",
       "73  tigergraph              snb    1.0     full   none  1037\n",
       "74  tigergraph              snb    1.0     full   none  1009\n",
       "75  tigergraph              snb    1.0  boolean   none  1009\n",
       "76  tigergraph              snb    1.0  boolean   none  1026\n",
       "77  tigergraph              snb    1.0  boolean   none  1028\n",
       "\n",
       "[78 rows x 6 columns]"
      ]
     },
     "execution_count": 11,
     "metadata": {},
     "output_type": "execute_result"
    }
   ],
   "source": [
    "df = pd.read_csv('results.csv')\n",
    "df"
   ]
  },
  {
   "cell_type": "code",
   "execution_count": 25,
   "metadata": {},
   "outputs": [
    {
     "name": "stdout",
     "output_type": "stream",
     "text": [
      "p=6.194487656700258e-06, T=31.318427085384315\n"
     ]
    }
   ],
   "source": [
    "full_vs_boolean = df[(df.database == \"neo4j\") & (df.scale == 0.1) & (df.errors == \"none\")]\n",
    "full = full_vs_boolean[full_vs_boolean.variant == \"full\"].time\n",
    "boolean = full_vs_boolean[full_vs_boolean.variant == \"boolean\"].time\n",
    "\n",
    "t_stat, p_value = stats.ttest_ind(full, boolean)\n",
    "print(f\"p={p_value}, T={t_stat}\")"
   ]
  },
  {
   "cell_type": "code",
   "execution_count": 34,
   "metadata": {},
   "outputs": [
    {
     "name": "stdout",
     "output_type": "stream",
     "text": [
      "none vs single: p=0.27207, T=1.27270\n",
      "single vs half: p=0.02018, T=3.73659\n",
      "none vs half:   p=0.00375, T=6.05840\n"
     ]
    }
   ],
   "source": [
    "compare_error_rates = df[(df.database == \"neo4j\") & (df.scale == 0.1) & (df.variant == \"boolean\")]\n",
    "none = compare_error_rates[compare_error_rates.errors == \"none\"].time\n",
    "single = compare_error_rates[compare_error_rates.errors == \"single\"].time\n",
    "half = compare_error_rates[compare_error_rates.errors == \"half\"].time\n",
    "\n",
    "t_stat, p_value = stats.ttest_ind(none, single)\n",
    "print(f\"none vs single: p={p_value:.5f}, T={t_stat:.5f}\")\n",
    "\n",
    "t_stat, p_value = stats.ttest_ind(single, half)\n",
    "print(f\"single vs half: p={p_value:.5f}, T={t_stat:.5f}\")\n",
    "\n",
    "t_stat, p_value = stats.ttest_ind(none, half)\n",
    "print(f\"none vs half:   p={p_value:.5f}, T={t_stat:.5f}\")"
   ]
  },
  {
   "cell_type": "code",
   "execution_count": 94,
   "metadata": {},
   "outputs": [
    {
     "data": {
      "image/png": "[encoded data removed]",
      "text/plain": [
       "<Figure size 1152x360 with 3 Axes>"
      ]
     },
     "metadata": {
      "needs_background": "light"
     },
     "output_type": "display_data"
    }
   ],
   "source": [
    "def compare_scales_per_db(ax, db):\n",
    "    compare_scales = df[\n",
    "        (df.database == db) & (df.dataset == \"snb\") & (df.errors == \"none\")\n",
    "    ]\n",
    "    full = compare_scales[compare_scales.variant == \"full\"].groupby('scale').mean()\n",
    "    boolean = compare_scales[compare_scales.variant == \"boolean\"].groupby('scale').mean()\n",
    "    ax.plot(full, \"o-\")\n",
    "    ax.plot(boolean, \"s-\")\n",
    "\n",
    "fig, axs = plt.subplots(1, 3, figsize=(16, 5))\n",
    "compare_scales_per_db(axs[0], \"neo4j\")\n",
    "compare_scales_per_db(axs[1], \"janusgraph\")\n",
    "compare_scales_per_db(axs[2], \"tigergraph\")\n",
    "plt.show()"
   ]
  }
 ],
 "metadata": {
  "kernelspec": {
   "display_name": "Python 3.9.7 ('base')",
   "language": "python",
   "name": "python3"
  },
  "language_info": {
   "codemirror_mode": {
    "name": "ipython",
    "version": 3
   },
   "file_extension": ".py",
   "mimetype": "text/x-python",
   "name": "python",
   "nbconvert_exporter": "python",
   "pygments_lexer": "ipython3",
   "version": "3.9.7"
  },
  "orig_nbformat": 4,
  "vscode": {
   "interpreter": {
    "hash": "f6d1697acf6e4c072b58bc08421084415d75461eb1fd648d11338a5848536125"
   }
  }
 },
 "nbformat": 4,
 "nbformat_minor": 2
}
