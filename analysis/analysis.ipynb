{
 "cells": [
  {
   "cell_type": "code",
   "execution_count": 87,
   "metadata": {},
   "outputs": [],
   "source": [
    "import pandas as pd\n",
    "import matplotlib.pyplot as plt\n",
    "from scipy import stats"
   ]
  },
  {
   "cell_type": "code",
   "execution_count": 88,
   "metadata": {},
   "outputs": [
    {
     "data": {
      "text/html": [
       "<div>\n",
       "<style scoped>\n",
       "    .dataframe tbody tr th:only-of-type {\n",
       "        vertical-align: middle;\n",
       "    }\n",
       "\n",
       "    .dataframe tbody tr th {\n",
       "        vertical-align: top;\n",
       "    }\n",
       "\n",
       "    .dataframe thead th {\n",
       "        text-align: right;\n",
       "    }\n",
       "</style>\n",
       "<table border=\"1\" class=\"dataframe\">\n",
       "  <thead>\n",
       "    <tr style=\"text-align: right;\">\n",
       "      <th></th>\n",
       "      <th>database</th>\n",
       "      <th>dataset</th>\n",
       "      <th>scale</th>\n",
       "      <th>variant</th>\n",
       "      <th>errors</th>\n",
       "      <th>time</th>\n",
       "    </tr>\n",
       "  </thead>\n",
       "  <tbody>\n",
       "    <tr>\n",
       "      <th>0</th>\n",
       "      <td>neo4j</td>\n",
       "      <td>recommendations</td>\n",
       "      <td>1.0</td>\n",
       "      <td>full</td>\n",
       "      <td>none</td>\n",
       "      <td>1825</td>\n",
       "    </tr>\n",
       "    <tr>\n",
       "      <th>1</th>\n",
       "      <td>neo4j</td>\n",
       "      <td>recommendations</td>\n",
       "      <td>1.0</td>\n",
       "      <td>full</td>\n",
       "      <td>none</td>\n",
       "      <td>1327</td>\n",
       "    </tr>\n",
       "    <tr>\n",
       "      <th>2</th>\n",
       "      <td>neo4j</td>\n",
       "      <td>recommendations</td>\n",
       "      <td>1.0</td>\n",
       "      <td>full</td>\n",
       "      <td>none</td>\n",
       "      <td>1274</td>\n",
       "    </tr>\n",
       "    <tr>\n",
       "      <th>3</th>\n",
       "      <td>neo4j</td>\n",
       "      <td>recommendations</td>\n",
       "      <td>1.0</td>\n",
       "      <td>boolean</td>\n",
       "      <td>none</td>\n",
       "      <td>1713</td>\n",
       "    </tr>\n",
       "    <tr>\n",
       "      <th>4</th>\n",
       "      <td>neo4j</td>\n",
       "      <td>recommendations</td>\n",
       "      <td>1.0</td>\n",
       "      <td>boolean</td>\n",
       "      <td>none</td>\n",
       "      <td>1515</td>\n",
       "    </tr>\n",
       "    <tr>\n",
       "      <th>...</th>\n",
       "      <td>...</td>\n",
       "      <td>...</td>\n",
       "      <td>...</td>\n",
       "      <td>...</td>\n",
       "      <td>...</td>\n",
       "      <td>...</td>\n",
       "    </tr>\n",
       "    <tr>\n",
       "      <th>73</th>\n",
       "      <td>tigergraph</td>\n",
       "      <td>snb</td>\n",
       "      <td>1.0</td>\n",
       "      <td>full</td>\n",
       "      <td>none</td>\n",
       "      <td>1037</td>\n",
       "    </tr>\n",
       "    <tr>\n",
       "      <th>74</th>\n",
       "      <td>tigergraph</td>\n",
       "      <td>snb</td>\n",
       "      <td>1.0</td>\n",
       "      <td>full</td>\n",
       "      <td>none</td>\n",
       "      <td>1009</td>\n",
       "    </tr>\n",
       "    <tr>\n",
       "      <th>75</th>\n",
       "      <td>tigergraph</td>\n",
       "      <td>snb</td>\n",
       "      <td>1.0</td>\n",
       "      <td>boolean</td>\n",
       "      <td>none</td>\n",
       "      <td>1009</td>\n",
       "    </tr>\n",
       "    <tr>\n",
       "      <th>76</th>\n",
       "      <td>tigergraph</td>\n",
       "      <td>snb</td>\n",
       "      <td>1.0</td>\n",
       "      <td>boolean</td>\n",
       "      <td>none</td>\n",
       "      <td>1026</td>\n",
       "    </tr>\n",
       "    <tr>\n",
       "      <th>77</th>\n",
       "      <td>tigergraph</td>\n",
       "      <td>snb</td>\n",
       "      <td>1.0</td>\n",
       "      <td>boolean</td>\n",
       "      <td>none</td>\n",
       "      <td>1028</td>\n",
       "    </tr>\n",
       "  </tbody>\n",
       "</table>\n",
       "<p>78 rows × 6 columns</p>\n",
       "</div>"
      ],
      "text/plain": [
       "      database          dataset  scale  variant errors  time\n",
       "0        neo4j  recommendations    1.0     full   none  1825\n",
       "1        neo4j  recommendations    1.0     full   none  1327\n",
       "2        neo4j  recommendations    1.0     full   none  1274\n",
       "3        neo4j  recommendations    1.0  boolean   none  1713\n",
       "4        neo4j  recommendations    1.0  boolean   none  1515\n",
       "..         ...              ...    ...      ...    ...   ...\n",
       "73  tigergraph              snb    1.0     full   none  1037\n",
       "74  tigergraph              snb    1.0     full   none  1009\n",
       "75  tigergraph              snb    1.0  boolean   none  1009\n",
       "76  tigergraph              snb    1.0  boolean   none  1026\n",
       "77  tigergraph              snb    1.0  boolean   none  1028\n",
       "\n",
       "[78 rows x 6 columns]"
      ]
     },
     "execution_count": 88,
     "metadata": {},
     "output_type": "execute_result"
    }
   ],
   "source": [
    "from pandas.api.types import CategoricalDtype\n",
    "\n",
    "df = pd.read_csv('results.csv')\n",
    "errors_order = CategoricalDtype([\"none\", \"single\", \"half\"], ordered=True)\n",
    "df.errors = df.errors.astype(errors_order)\n",
    "df"
   ]
  },
  {
   "cell_type": "code",
   "execution_count": 89,
   "metadata": {},
   "outputs": [],
   "source": [
    "def format(str):\n",
    "    if str.lower() == \"neo4j\":\n",
    "        return \"Neo4j\"\n",
    "    if str.lower() == \"janusgraph\":\n",
    "        return \"JanusGraph\"\n",
    "    if str.lower() == \"tigergraph\":\n",
    "        return \"TigerGraph\"\n",
    "    if str.lower() == \"snb\":\n",
    "        return \"SNB\"\n",
    "    return str.capitalize()"
   ]
  },
  {
   "cell_type": "code",
   "execution_count": 90,
   "metadata": {},
   "outputs": [
    {
     "name": "stdout",
     "output_type": "stream",
     "text": [
      "p=6.194487656700258e-06, T=31.318427085384315\n"
     ]
    }
   ],
   "source": [
    "full_vs_boolean = df[(df.database == \"neo4j\") & (df.scale == 0.1) & (df.errors == \"none\")]\n",
    "full = full_vs_boolean[full_vs_boolean.variant == \"full\"].time\n",
    "boolean = full_vs_boolean[full_vs_boolean.variant == \"boolean\"].time\n",
    "\n",
    "t_stat, p_value = stats.ttest_ind(full, boolean)\n",
    "print(f\"p={p_value}, T={t_stat}\")"
   ]
  },
  {
   "cell_type": "code",
   "execution_count": 91,
   "metadata": {},
   "outputs": [
    {
     "name": "stdout",
     "output_type": "stream",
     "text": [
      "none vs single: p=0.27207, T=1.27270\n",
      "single vs half: p=0.02018, T=3.73659\n",
      "none vs half:   p=0.00375, T=6.05840\n"
     ]
    }
   ],
   "source": [
    "compare_error_rates = df[(df.database == \"neo4j\") & (df.scale == 0.1) & (df.variant == \"boolean\")]\n",
    "none = compare_error_rates[compare_error_rates.errors == \"none\"].time\n",
    "single = compare_error_rates[compare_error_rates.errors == \"single\"].time\n",
    "half = compare_error_rates[compare_error_rates.errors == \"half\"].time\n",
    "\n",
    "t_stat, p_value = stats.ttest_ind(none, single)\n",
    "print(f\"none vs single: p={p_value:.5f}, T={t_stat:.5f}\")\n",
    "\n",
    "t_stat, p_value = stats.ttest_ind(single, half)\n",
    "print(f\"single vs half: p={p_value:.5f}, T={t_stat:.5f}\")\n",
    "\n",
    "t_stat, p_value = stats.ttest_ind(none, half)\n",
    "print(f\"none vs half:   p={p_value:.5f}, T={t_stat:.5f}\")"
   ]
  },
  {
   "cell_type": "code",
   "execution_count": 92,
   "metadata": {},
   "outputs": [
    {
     "data": {
      "image/png": "[encoded data removed]",
      "text/plain": [
       "<Figure size 720x360 with 2 Axes>"
      ]
     },
     "metadata": {
      "needs_background": "light"
     },
     "output_type": "display_data"
    }
   ],
   "source": [
    "df_num_elements = pd.DataFrame([\n",
    "    [\"recommendations\", 1.0, 28_863, 166_261, 0],\n",
    "    [\"snb\", 0.1, 327_588, 1_477_965, 0],\n",
    "    [\"snb\", 0.3, 908_224, 4_583_118, 0],\n",
    "    [\"snb\", 1.0, 3_181_724, 17_256_038, 0]\n",
    "], columns=[\"dataset\", \"scale\", \"nodes\", \"edges\", \"elements\"])\n",
    "\n",
    "df_num_elements.elements = df_num_elements.nodes + df_num_elements.edges\n",
    "\n",
    "def plot_scale_per_db(ax, db):\n",
    "    df_filtered = df[\n",
    "        (df.database == db) & (df.dataset == \"snb\") & (df.errors == \"none\")\n",
    "    ]\n",
    "    df_merged = pd.merge(df_filtered, df_num_elements, on=[\"dataset\", \"scale\"])\n",
    "\n",
    "    full = df_merged[df_merged.variant == \"full\"].groupby(\"elements\").mean().reset_index()\n",
    "    boolean = df_merged[df_merged.variant == \"boolean\"].groupby(\"elements\").mean().reset_index()\n",
    "\n",
    "    ax.plot(full.elements, full.time / 1000, \"o-\", label=\"full\")\n",
    "    ax.plot(boolean.elements, boolean.time / 1000, \"s-\", label=\"boolean\")\n",
    "    ax.set_xlabel(\"number of objects\")\n",
    "    ax.set_ylabel(\"running time (s)\")\n",
    "    ax.set_title(format(db))\n",
    "    ax.legend()\n",
    "\n",
    "fig, axs = plt.subplots(1, 2, figsize=(10, 5))\n",
    "plot_scale_per_db(axs[0], \"neo4j\")\n",
    "plot_scale_per_db(axs[1], \"tigergraph\")\n",
    "plt.show()"
   ]
  },
  {
   "cell_type": "code",
   "execution_count": 109,
   "metadata": {},
   "outputs": [
    {
     "data": {
      "image/png": "[encoded data removed]",
      "text/plain": [
       "<Figure size 1152x360 with 3 Axes>"
      ]
     },
     "metadata": {
      "needs_background": "light"
     },
     "output_type": "display_data"
    }
   ],
   "source": [
    "def plot_errors_per_db(ax, db):\n",
    "    df_filtered = df[\n",
    "        (df.database == db) & (df.dataset == \"snb\") & (df.scale == 0.1) & (df.variant == \"boolean\")\n",
    "    ]\n",
    "\n",
    "    data = df_filtered.groupby(\"errors\").mean().reset_index()\n",
    "    \n",
    "    ax.bar(data.errors, data.time / 1000)\n",
    "    ax.set_xlabel(\"error rate\")\n",
    "    ax.set_ylabel(\"running time (s)\")\n",
    "    ax.set_title(format(db))\n",
    "\n",
    "fig, axs = plt.subplots(1, 3, figsize=(16, 5))\n",
    "plot_errors_per_db(axs[0], \"neo4j\")\n",
    "plot_errors_per_db(axs[1], \"janusgraph\")\n",
    "plot_errors_per_db(axs[2], \"tigergraph\")\n",
    "plt.show()"
   ]
  }
 ],
 "metadata": {
  "kernelspec": {
   "display_name": "Python 3.9.7 ('base')",
   "language": "python",
   "name": "python3"
  },
  "language_info": {
   "codemirror_mode": {
    "name": "ipython",
    "version": 3
   },
   "file_extension": ".py",
   "mimetype": "text/x-python",
   "name": "python",
   "nbconvert_exporter": "python",
   "pygments_lexer": "ipython3",
   "version": "3.9.7"
  },
  "orig_nbformat": 4,
  "vscode": {
   "interpreter": {
    "hash": "f6d1697acf6e4c072b58bc08421084415d75461eb1fd648d11338a5848536125"
   }
  }
 },
 "nbformat": 4,
 "nbformat_minor": 2
}
