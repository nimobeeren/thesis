{
 "cells": [
  {
   "cell_type": "code",
   "execution_count": 1,
   "metadata": {},
   "outputs": [],
   "source": [
    "%load_ext sql\n",
    "%sql sqlite://"
   ]
  },
  {
   "cell_type": "markdown",
   "metadata": {},
   "source": [
    "Create tables for nodes and edges. The data model is a graph, where edges can have labels and nodes can have values.\n",
    "\n",
    "We simulate labels on nodes by a labeled self-loop. We use the node value to specify a type, rather than a concrete value."
   ]
  },
  {
   "cell_type": "code",
   "execution_count": 2,
   "metadata": {},
   "outputs": [
    {
     "name": "stdout",
     "output_type": "stream",
     "text": [
      " * sqlite://\n",
      "Done.\n",
      "Done.\n"
     ]
    },
    {
     "data": {
      "text/plain": [
       "[]"
      ]
     },
     "execution_count": 2,
     "metadata": {},
     "output_type": "execute_result"
    }
   ],
   "source": [
    "%%sql\n",
    "CREATE TABLE nodes(\n",
    "    id INT PRIMARY KEY,\n",
    "    value VARCHAR\n",
    ");\n",
    "CREATE TABLE edges(\n",
    "    id INT PRIMARY KEY,\n",
    "    source INT NOT NULL,\n",
    "    label VARCHAR,\n",
    "    target INT NOT NULL\n",
    ")"
   ]
  },
  {
   "cell_type": "markdown",
   "metadata": {},
   "source": [
    "Fill the tables with some values."
   ]
  },
  {
   "cell_type": "code",
   "execution_count": 3,
   "metadata": {},
   "outputs": [
    {
     "name": "stdout",
     "output_type": "stream",
     "text": [
      " * sqlite://\n",
      "6 rows affected.\n",
      "6 rows affected.\n"
     ]
    },
    {
     "data": {
      "text/plain": [
       "[]"
      ]
     },
     "execution_count": 3,
     "metadata": {},
     "output_type": "execute_result"
    }
   ],
   "source": [
    "%%sql\n",
    "INSERT INTO nodes VALUES\n",
    "    (0, NULL),\n",
    "    (1, \"INT\"),\n",
    "    (2, NULL),\n",
    "    (3, \"INT\"),\n",
    "    (4, NULL),\n",
    "    (5, \"DATE\");\n",
    "\n",
    "INSERT INTO edges VALUES\n",
    "    (0, 0, \"a\", 1),\n",
    "    (1, 2, \"a\", 3),\n",
    "    (2, 4, \"b\", 5),\n",
    "    (10, 0, \"A\", 0),\n",
    "    (11, 2, \"A\", 2),\n",
    "    (12, 4, \"B\", 4)"
   ]
  },
  {
   "cell_type": "markdown",
   "metadata": {},
   "source": [
    "List the value of each node."
   ]
  },
  {
   "cell_type": "code",
   "execution_count": 4,
   "metadata": {},
   "outputs": [
    {
     "name": "stdout",
     "output_type": "stream",
     "text": [
      " * sqlite://\n",
      "Done.\n"
     ]
    },
    {
     "data": {
      "text/html": [
       "<table>\n",
       "    <tr>\n",
       "        <th>id</th>\n",
       "        <th>value</th>\n",
       "    </tr>\n",
       "    <tr>\n",
       "        <td>0</td>\n",
       "        <td>None</td>\n",
       "    </tr>\n",
       "    <tr>\n",
       "        <td>1</td>\n",
       "        <td>INT</td>\n",
       "    </tr>\n",
       "    <tr>\n",
       "        <td>2</td>\n",
       "        <td>None</td>\n",
       "    </tr>\n",
       "    <tr>\n",
       "        <td>3</td>\n",
       "        <td>INT</td>\n",
       "    </tr>\n",
       "    <tr>\n",
       "        <td>4</td>\n",
       "        <td>None</td>\n",
       "    </tr>\n",
       "    <tr>\n",
       "        <td>5</td>\n",
       "        <td>DATE</td>\n",
       "    </tr>\n",
       "</table>"
      ],
      "text/plain": [
       "[(0, None), (1, 'INT'), (2, None), (3, 'INT'), (4, None), (5, 'DATE')]"
      ]
     },
     "execution_count": 4,
     "metadata": {},
     "output_type": "execute_result"
    }
   ],
   "source": [
    "%%sql\n",
    "SELECT id, value FROM nodes"
   ]
  },
  {
   "cell_type": "markdown",
   "metadata": {},
   "source": [
    "Get a list of (value, label, value) triples for each edge."
   ]
  },
  {
   "cell_type": "code",
   "execution_count": 5,
   "metadata": {},
   "outputs": [
    {
     "name": "stdout",
     "output_type": "stream",
     "text": [
      " * sqlite://\n",
      "Done.\n"
     ]
    },
    {
     "data": {
      "text/html": [
       "<table>\n",
       "    <tr>\n",
       "        <th>source</th>\n",
       "        <th>label</th>\n",
       "        <th>target</th>\n",
       "    </tr>\n",
       "    <tr>\n",
       "        <td>None</td>\n",
       "        <td>a</td>\n",
       "        <td>INT</td>\n",
       "    </tr>\n",
       "    <tr>\n",
       "        <td>None</td>\n",
       "        <td>a</td>\n",
       "        <td>INT</td>\n",
       "    </tr>\n",
       "    <tr>\n",
       "        <td>None</td>\n",
       "        <td>b</td>\n",
       "        <td>DATE</td>\n",
       "    </tr>\n",
       "    <tr>\n",
       "        <td>None</td>\n",
       "        <td>A</td>\n",
       "        <td>None</td>\n",
       "    </tr>\n",
       "    <tr>\n",
       "        <td>None</td>\n",
       "        <td>A</td>\n",
       "        <td>None</td>\n",
       "    </tr>\n",
       "    <tr>\n",
       "        <td>None</td>\n",
       "        <td>B</td>\n",
       "        <td>None</td>\n",
       "    </tr>\n",
       "</table>"
      ],
      "text/plain": [
       "[(None, 'a', 'INT'),\n",
       " (None, 'a', 'INT'),\n",
       " (None, 'b', 'DATE'),\n",
       " (None, 'A', None),\n",
       " (None, 'A', None),\n",
       " (None, 'B', None)]"
      ]
     },
     "execution_count": 5,
     "metadata": {},
     "output_type": "execute_result"
    }
   ],
   "source": [
    "%%sql\n",
    "SELECT s.value AS source, e.label, t.value AS target\n",
    "FROM nodes s JOIN edges e JOIN nodes t\n",
    "ON s.id = e.source AND e.target = t.id"
   ]
  },
  {
   "cell_type": "markdown",
   "metadata": {},
   "source": [
    "**Schema validation**\n",
    "\n",
    "We assume the following schema with two node types in the property graph model:\n",
    "\n",
    "```\n",
    "NODE :A { a INT };\n",
    "NODE :B { b DATE };\n",
    "```\n",
    "\n",
    "This schema can be expressed by a set of FOL-rules. Here, we write a SQL query for each FOL rule, such that the FOL rule is true iff the last column of the query result contains only 1s."
   ]
  },
  {
   "cell_type": "markdown",
   "metadata": {},
   "source": [
    "*The following rules capture the vocabulary for nodes and edges.*"
   ]
  },
  {
   "cell_type": "markdown",
   "metadata": {},
   "source": [
    "1a) Every node has a self-loop labeled `A` or `B` or has value `INT` or `DATE`."
   ]
  },
  {
   "cell_type": "code",
   "execution_count": 6,
   "metadata": {},
   "outputs": [
    {
     "name": "stdout",
     "output_type": "stream",
     "text": [
      " * sqlite://\n",
      "Done.\n"
     ]
    },
    {
     "data": {
      "text/html": [
       "<table>\n",
       "    <tr>\n",
       "        <th>id</th>\n",
       "        <th>label</th>\n",
       "        <th>value</th>\n",
       "        <th>e.label = &quot;A&quot; OR e.label = &quot;B&quot; OR n.value = &quot;INT&quot; OR n.value = &quot;DATE&quot;</th>\n",
       "    </tr>\n",
       "    <tr>\n",
       "        <td>0</td>\n",
       "        <td>A</td>\n",
       "        <td>None</td>\n",
       "        <td>1</td>\n",
       "    </tr>\n",
       "    <tr>\n",
       "        <td>1</td>\n",
       "        <td>None</td>\n",
       "        <td>INT</td>\n",
       "        <td>1</td>\n",
       "    </tr>\n",
       "    <tr>\n",
       "        <td>2</td>\n",
       "        <td>A</td>\n",
       "        <td>None</td>\n",
       "        <td>1</td>\n",
       "    </tr>\n",
       "    <tr>\n",
       "        <td>3</td>\n",
       "        <td>None</td>\n",
       "        <td>INT</td>\n",
       "        <td>1</td>\n",
       "    </tr>\n",
       "    <tr>\n",
       "        <td>4</td>\n",
       "        <td>B</td>\n",
       "        <td>None</td>\n",
       "        <td>1</td>\n",
       "    </tr>\n",
       "    <tr>\n",
       "        <td>5</td>\n",
       "        <td>None</td>\n",
       "        <td>DATE</td>\n",
       "        <td>1</td>\n",
       "    </tr>\n",
       "</table>"
      ],
      "text/plain": [
       "[(0, 'A', None, 1),\n",
       " (1, None, 'INT', 1),\n",
       " (2, 'A', None, 1),\n",
       " (3, None, 'INT', 1),\n",
       " (4, 'B', None, 1),\n",
       " (5, None, 'DATE', 1)]"
      ]
     },
     "execution_count": 6,
     "metadata": {},
     "output_type": "execute_result"
    }
   ],
   "source": [
    "%%sql\n",
    "SELECT n.id, e.label, n.value, e.label = \"A\" OR e.label = \"B\" OR n.value = \"INT\" OR n.value = \"DATE\"\n",
    "FROM nodes n LEFT OUTER JOIN edges e\n",
    "ON e.source = n.id AND e.target = n.id"
   ]
  },
  {
   "cell_type": "markdown",
   "metadata": {},
   "source": [
    "1b) Every self-loop has label `A` or `B`."
   ]
  },
  {
   "cell_type": "code",
   "execution_count": 7,
   "metadata": {},
   "outputs": [
    {
     "name": "stdout",
     "output_type": "stream",
     "text": [
      " * sqlite://\n",
      "Done.\n"
     ]
    },
    {
     "data": {
      "text/html": [
       "<table>\n",
       "    <tr>\n",
       "        <th>id</th>\n",
       "        <th>label</th>\n",
       "        <th>label = &quot;A&quot; OR label = &quot;B&quot;</th>\n",
       "    </tr>\n",
       "    <tr>\n",
       "        <td>10</td>\n",
       "        <td>A</td>\n",
       "        <td>1</td>\n",
       "    </tr>\n",
       "    <tr>\n",
       "        <td>11</td>\n",
       "        <td>A</td>\n",
       "        <td>1</td>\n",
       "    </tr>\n",
       "    <tr>\n",
       "        <td>12</td>\n",
       "        <td>B</td>\n",
       "        <td>1</td>\n",
       "    </tr>\n",
       "</table>"
      ],
      "text/plain": [
       "[(10, 'A', 1), (11, 'A', 1), (12, 'B', 1)]"
      ]
     },
     "execution_count": 7,
     "metadata": {},
     "output_type": "execute_result"
    }
   ],
   "source": [
    "%%sql\n",
    "SELECT id, label, label = \"A\" OR label = \"B\"\n",
    "FROM edges\n",
    "WHERE source = target"
   ]
  },
  {
   "cell_type": "markdown",
   "metadata": {},
   "source": [
    "1c) For every non-self-loop edge `e`:\n",
    "- The source node `s` has a self-loop with the specified label `slabel`\n",
    "- The edge `e` has the specified label `elabel`\n",
    "- The target node `t` has the specified value `tvalue`"
   ]
  },
  {
   "cell_type": "code",
   "execution_count": 8,
   "metadata": {},
   "outputs": [
    {
     "name": "stdout",
     "output_type": "stream",
     "text": [
      " * sqlite://\n",
      "Done.\n"
     ]
    },
    {
     "data": {
      "text/html": [
       "<table>\n",
       "    <tr>\n",
       "        <th>id</th>\n",
       "        <th>slabel</th>\n",
       "        <th>elabel</th>\n",
       "        <th>tvalue</th>\n",
       "        <th>(se.label = &quot;A&quot; AND e.label = &quot;a&quot; AND t.value = &quot;INT&quot;<br>    OR se.label = &quot;B&quot; AND e.label = &quot;b&quot; AND t.value = &quot;DATE&quot;)</th>\n",
       "    </tr>\n",
       "    <tr>\n",
       "        <td>0</td>\n",
       "        <td>A</td>\n",
       "        <td>a</td>\n",
       "        <td>INT</td>\n",
       "        <td>1</td>\n",
       "    </tr>\n",
       "    <tr>\n",
       "        <td>1</td>\n",
       "        <td>A</td>\n",
       "        <td>a</td>\n",
       "        <td>INT</td>\n",
       "        <td>1</td>\n",
       "    </tr>\n",
       "    <tr>\n",
       "        <td>2</td>\n",
       "        <td>B</td>\n",
       "        <td>b</td>\n",
       "        <td>DATE</td>\n",
       "        <td>1</td>\n",
       "    </tr>\n",
       "</table>"
      ],
      "text/plain": [
       "[(0, 'A', 'a', 'INT', 1), (1, 'A', 'a', 'INT', 1), (2, 'B', 'b', 'DATE', 1)]"
      ]
     },
     "execution_count": 8,
     "metadata": {},
     "output_type": "execute_result"
    }
   ],
   "source": [
    "%%sql\n",
    "SELECT\n",
    "    e.id,\n",
    "    se.label AS slabel,\n",
    "    e.label AS elabel,\n",
    "    t.value AS tvalue,\n",
    "    (se.label = \"A\" AND e.label = \"a\" AND t.value = \"INT\"\n",
    "    OR se.label = \"B\" AND e.label = \"b\" AND t.value = \"DATE\")\n",
    "FROM\n",
    "    (nodes s LEFT OUTER JOIN edges se\n",
    "    ON se.source = s.id AND se.target = s.id)\n",
    "    JOIN edges e\n",
    "    ON e.source = s.id AND e.source != e.target\n",
    "    JOIN nodes t\n",
    "    ON e.target = t.id"
   ]
  },
  {
   "cell_type": "markdown",
   "metadata": {},
   "source": [
    "*The following rules capture that properties are mandatory.*"
   ]
  },
  {
   "cell_type": "markdown",
   "metadata": {},
   "source": [
    "2a) Every `A`-node has an outgoing `a`-edge to a node with value `INT`."
   ]
  },
  {
   "cell_type": "code",
   "execution_count": 9,
   "metadata": {},
   "outputs": [
    {
     "name": "stdout",
     "output_type": "stream",
     "text": [
      " * sqlite://\n",
      "Done.\n"
     ]
    },
    {
     "data": {
      "text/html": [
       "<table>\n",
       "    <tr>\n",
       "        <th>slabel</th>\n",
       "        <th>elabel</th>\n",
       "        <th>tvalue</th>\n",
       "        <th>e.label = &quot;a&quot; AND t.value = &quot;INT&quot;</th>\n",
       "    </tr>\n",
       "    <tr>\n",
       "        <td>0</td>\n",
       "        <td>a</td>\n",
       "        <td>INT</td>\n",
       "        <td>1</td>\n",
       "    </tr>\n",
       "    <tr>\n",
       "        <td>2</td>\n",
       "        <td>a</td>\n",
       "        <td>INT</td>\n",
       "        <td>1</td>\n",
       "    </tr>\n",
       "</table>"
      ],
      "text/plain": [
       "[(0, 'a', 'INT', 1), (2, 'a', 'INT', 1)]"
      ]
     },
     "execution_count": 9,
     "metadata": {},
     "output_type": "execute_result"
    }
   ],
   "source": [
    "%%sql\n",
    "SELECT\n",
    "    s.id AS slabel,\n",
    "    e.label AS elabel,\n",
    "    t.value AS tvalue,\n",
    "    e.label = \"a\" AND t.value = \"INT\"\n",
    "FROM\n",
    "    (nodes s JOIN edges se\n",
    "    ON se.source = s.id AND se.target = s.id AND se.label = \"A\")\n",
    "    LEFT OUTER JOIN edges e ON e.source = s.id AND e.label = \"a\"\n",
    "    LEFT OUTER JOIN nodes t ON e.target = t.id"
   ]
  },
  {
   "cell_type": "markdown",
   "metadata": {},
   "source": [
    "2b) Every `B`-node has an outgoing `b`-edge to a node with value `DATE`."
   ]
  },
  {
   "cell_type": "code",
   "execution_count": 10,
   "metadata": {},
   "outputs": [
    {
     "name": "stdout",
     "output_type": "stream",
     "text": [
      " * sqlite://\n",
      "Done.\n"
     ]
    },
    {
     "data": {
      "text/html": [
       "<table>\n",
       "    <tr>\n",
       "        <th>slabel</th>\n",
       "        <th>elabel</th>\n",
       "        <th>tvalue</th>\n",
       "        <th>e.label = &quot;b&quot; AND t.value = &quot;DATE&quot;</th>\n",
       "    </tr>\n",
       "    <tr>\n",
       "        <td>4</td>\n",
       "        <td>b</td>\n",
       "        <td>DATE</td>\n",
       "        <td>1</td>\n",
       "    </tr>\n",
       "</table>"
      ],
      "text/plain": [
       "[(4, 'b', 'DATE', 1)]"
      ]
     },
     "execution_count": 10,
     "metadata": {},
     "output_type": "execute_result"
    }
   ],
   "source": [
    "%%sql\n",
    "SELECT\n",
    "    s.id AS slabel,\n",
    "    e.label AS elabel,\n",
    "    t.value AS tvalue,\n",
    "    e.label = \"b\" AND t.value = \"DATE\"\n",
    "FROM\n",
    "    (nodes s JOIN edges se\n",
    "    ON se.source = s.id AND se.target = s.id AND se.label = \"B\")\n",
    "    LEFT OUTER JOIN edges e ON e.source = s.id AND e.label = \"b\"\n",
    "    LEFT OUTER JOIN nodes t ON e.target = t.id"
   ]
  },
  {
   "cell_type": "markdown",
   "metadata": {},
   "source": [
    "*The following rules capture that properties are single-valued.*"
   ]
  },
  {
   "cell_type": "markdown",
   "metadata": {},
   "source": [
    "*The following rules capture mutual exclusion between different node types.*"
   ]
  }
 ],
 "metadata": {
  "interpreter": {
   "hash": "f6d1697acf6e4c072b58bc08421084415d75461eb1fd648d11338a5848536125"
  },
  "kernelspec": {
   "display_name": "Python 3.9.7 ('base')",
   "language": "python",
   "name": "python3"
  },
  "language_info": {
   "codemirror_mode": {
    "name": "ipython",
    "version": 3
   },
   "file_extension": ".py",
   "mimetype": "text/x-python",
   "name": "python",
   "nbconvert_exporter": "python",
   "pygments_lexer": "ipython3",
   "version": "3.9.7"
  },
  "orig_nbformat": 4
 },
 "nbformat": 4,
 "nbformat_minor": 2
}
