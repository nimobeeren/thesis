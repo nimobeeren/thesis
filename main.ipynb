{
 "cells": [
  {
   "cell_type": "code",
   "execution_count": 1,
   "metadata": {},
   "outputs": [],
   "source": [
    "%load_ext sql\n",
    "%sql sqlite://"
   ]
  },
  {
   "cell_type": "code",
   "execution_count": 2,
   "metadata": {},
   "outputs": [
    {
     "name": "stdout",
     "output_type": "stream",
     "text": [
      " * sqlite://\n",
      "Done.\n",
      "Done.\n"
     ]
    },
    {
     "data": {
      "text/plain": [
       "[]"
      ]
     },
     "execution_count": 2,
     "metadata": {},
     "output_type": "execute_result"
    }
   ],
   "source": [
    "%%sql\n",
    "CREATE TABLE nodes(\n",
    "    id INT PRIMARY KEY,\n",
    "    value VARCHAR\n",
    ");\n",
    "CREATE TABLE edges(\n",
    "    id INT PRIMARY KEY,\n",
    "    source INT NOT NULL,\n",
    "    label VARCHAR,\n",
    "    target INT NOT NULL\n",
    ");"
   ]
  },
  {
   "cell_type": "code",
   "execution_count": 3,
   "metadata": {},
   "outputs": [
    {
     "name": "stdout",
     "output_type": "stream",
     "text": [
      " * sqlite://\n",
      "6 rows affected.\n",
      "3 rows affected.\n"
     ]
    },
    {
     "data": {
      "text/plain": [
       "[]"
      ]
     },
     "execution_count": 3,
     "metadata": {},
     "output_type": "execute_result"
    }
   ],
   "source": [
    "%%sql\n",
    "INSERT INTO nodes VALUES\n",
    "    (0, NULL),\n",
    "    (1, \"INT\"),\n",
    "    (2, NULL),\n",
    "    (3, \"INT\"),\n",
    "    (4, NULL),\n",
    "    (5, \"DATE\");\n",
    "\n",
    "INSERT INTO edges VALUES\n",
    "    (0, 0, \"a\", 1),\n",
    "    (1, 2, \"a\", 3),\n",
    "    (2, 4, \"b\", 5);"
   ]
  },
  {
   "cell_type": "code",
   "execution_count": 4,
   "metadata": {},
   "outputs": [
    {
     "name": "stdout",
     "output_type": "stream",
     "text": [
      " * sqlite://\n",
      "Done.\n"
     ]
    },
    {
     "data": {
      "text/html": [
       "<table>\n",
       "    <tr>\n",
       "        <th>source</th>\n",
       "        <th>label</th>\n",
       "        <th>target</th>\n",
       "    </tr>\n",
       "    <tr>\n",
       "        <td>None</td>\n",
       "        <td>a</td>\n",
       "        <td>INT</td>\n",
       "    </tr>\n",
       "    <tr>\n",
       "        <td>None</td>\n",
       "        <td>a</td>\n",
       "        <td>INT</td>\n",
       "    </tr>\n",
       "    <tr>\n",
       "        <td>None</td>\n",
       "        <td>b</td>\n",
       "        <td>DATE</td>\n",
       "    </tr>\n",
       "</table>"
      ],
      "text/plain": [
       "[(None, 'a', 'INT'), (None, 'a', 'INT'), (None, 'b', 'DATE')]"
      ]
     },
     "execution_count": 4,
     "metadata": {},
     "output_type": "execute_result"
    }
   ],
   "source": [
    "%%sql\n",
    "SELECT s.value AS source, e.label, t.value AS target\n",
    "FROM nodes s JOIN edges e JOIN nodes t\n",
    "ON s.id = e.source AND e.target = t.id;"
   ]
  }
 ],
 "metadata": {
  "interpreter": {
   "hash": "f6d1697acf6e4c072b58bc08421084415d75461eb1fd648d11338a5848536125"
  },
  "kernelspec": {
   "display_name": "Python 3.9.7 ('base')",
   "language": "python",
   "name": "python3"
  },
  "language_info": {
   "codemirror_mode": {
    "name": "ipython",
    "version": 3
   },
   "file_extension": ".py",
   "mimetype": "text/x-python",
   "name": "python",
   "nbconvert_exporter": "python",
   "pygments_lexer": "ipython3",
   "version": "3.9.7"
  },
  "orig_nbformat": 4
 },
 "nbformat": 4,
 "nbformat_minor": 2
}
